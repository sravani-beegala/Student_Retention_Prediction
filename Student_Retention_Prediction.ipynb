{
 "cells": [
  {
   "cell_type": "markdown",
   "metadata": {},
   "source": [
    "# SEIS 763-02 Group Project\n",
    "# Predicting Student Retention Rate \n",
    "### Submitted by - Sravani Beegala, Kiel Auer, Eastman Michael, Tosin Omidiora"
   ]
  },
  {
   "cell_type": "markdown",
   "metadata": {},
   "source": [
    "## 1. Loading Libraries and Dataset"
   ]
  },
  {
   "cell_type": "code",
   "execution_count": 7,
   "metadata": {},
   "outputs": [],
   "source": [
    "import warnings\n",
    "warnings.filterwarnings('ignore')\n",
    "\n",
    "import pandas as pd\n",
    "import numpy as np\n",
    "import matplotlib.pyplot as plt\n",
    "import seaborn as sns\n",
    "\n",
    "\n",
    "#Loading the dataset\n",
    "dataset = pd.read_csv('C:/Users/Admin/Desktop/ML_Python/PROJECT/Experiment and Results/Retention_Data.csv')\n",
    "\n",
    "# Defining Target variable\n",
    "\n",
    "X = dataset.iloc[:,:-1].values\n",
    "y = dataset.iloc[:,19].values"
   ]
  },
  {
   "cell_type": "code",
   "execution_count": 5,
   "metadata": {},
   "outputs": [
    {
     "data": {
      "text/html": [
       "<div>\n",
       "<style scoped>\n",
       "    .dataframe tbody tr th:only-of-type {\n",
       "        vertical-align: middle;\n",
       "    }\n",
       "\n",
       "    .dataframe tbody tr th {\n",
       "        vertical-align: top;\n",
       "    }\n",
       "\n",
       "    .dataframe thead th {\n",
       "        text-align: right;\n",
       "    }\n",
       "</style>\n",
       "<table border=\"1\" class=\"dataframe\">\n",
       "  <thead>\n",
       "    <tr style=\"text-align: right;\">\n",
       "      <th></th>\n",
       "      <th>Number</th>\n",
       "      <th>Cohort_Year</th>\n",
       "      <th>Gender</th>\n",
       "      <th>1st_Generation_Student?</th>\n",
       "      <th>IPEDS_Ethnicity</th>\n",
       "      <th>IPEDS_Ethnicity_Desc</th>\n",
       "      <th>Citizenship_Type</th>\n",
       "      <th>Resident</th>\n",
       "      <th>Fall_1_Credits</th>\n",
       "      <th>HS_GPA</th>\n",
       "      <th>ACTC_SCORE</th>\n",
       "      <th>ACTM_SCORE</th>\n",
       "      <th>ACTE_SCORE</th>\n",
       "      <th>ACTR_SCORE</th>\n",
       "      <th>ACTS_SCORE</th>\n",
       "      <th>Transfer_Credits</th>\n",
       "      <th>AP_Credits</th>\n",
       "      <th>Pell</th>\n",
       "      <th>Fall_1_STEM?</th>\n",
       "      <th>Fall_2?</th>\n",
       "    </tr>\n",
       "  </thead>\n",
       "  <tbody>\n",
       "    <tr>\n",
       "      <th>0</th>\n",
       "      <td>1</td>\n",
       "      <td>Fall 2009</td>\n",
       "      <td>F</td>\n",
       "      <td>N</td>\n",
       "      <td>13</td>\n",
       "      <td>White</td>\n",
       "      <td>Y</td>\n",
       "      <td>Resident</td>\n",
       "      <td>16</td>\n",
       "      <td>3.72</td>\n",
       "      <td>25</td>\n",
       "      <td>29</td>\n",
       "      <td>21</td>\n",
       "      <td>27</td>\n",
       "      <td>24</td>\n",
       "      <td>0.0</td>\n",
       "      <td>0</td>\n",
       "      <td>N</td>\n",
       "      <td>0</td>\n",
       "      <td>1</td>\n",
       "    </tr>\n",
       "    <tr>\n",
       "      <th>1</th>\n",
       "      <td>2</td>\n",
       "      <td>Fall 2009</td>\n",
       "      <td>F</td>\n",
       "      <td>N</td>\n",
       "      <td>13</td>\n",
       "      <td>White</td>\n",
       "      <td>Y</td>\n",
       "      <td>Resident</td>\n",
       "      <td>12</td>\n",
       "      <td>3.67</td>\n",
       "      <td>25</td>\n",
       "      <td>26</td>\n",
       "      <td>26</td>\n",
       "      <td>23</td>\n",
       "      <td>24</td>\n",
       "      <td>9.0</td>\n",
       "      <td>4</td>\n",
       "      <td>N</td>\n",
       "      <td>0</td>\n",
       "      <td>1</td>\n",
       "    </tr>\n",
       "    <tr>\n",
       "      <th>2</th>\n",
       "      <td>3</td>\n",
       "      <td>Fall 2009</td>\n",
       "      <td>M</td>\n",
       "      <td>Y</td>\n",
       "      <td>13</td>\n",
       "      <td>White</td>\n",
       "      <td>Y</td>\n",
       "      <td>Resident</td>\n",
       "      <td>13</td>\n",
       "      <td>3.99</td>\n",
       "      <td>27</td>\n",
       "      <td>28</td>\n",
       "      <td>25</td>\n",
       "      <td>29</td>\n",
       "      <td>27</td>\n",
       "      <td>20.0</td>\n",
       "      <td>20</td>\n",
       "      <td>N</td>\n",
       "      <td>1</td>\n",
       "      <td>1</td>\n",
       "    </tr>\n",
       "    <tr>\n",
       "      <th>3</th>\n",
       "      <td>4</td>\n",
       "      <td>Fall 2009</td>\n",
       "      <td>F</td>\n",
       "      <td>N</td>\n",
       "      <td>10</td>\n",
       "      <td>Asian</td>\n",
       "      <td>Y</td>\n",
       "      <td>Resident</td>\n",
       "      <td>16</td>\n",
       "      <td>3.84</td>\n",
       "      <td>29</td>\n",
       "      <td>27</td>\n",
       "      <td>31</td>\n",
       "      <td>30</td>\n",
       "      <td>26</td>\n",
       "      <td>2.7</td>\n",
       "      <td>0</td>\n",
       "      <td>N</td>\n",
       "      <td>0</td>\n",
       "      <td>1</td>\n",
       "    </tr>\n",
       "    <tr>\n",
       "      <th>4</th>\n",
       "      <td>5</td>\n",
       "      <td>Fall 2009</td>\n",
       "      <td>M</td>\n",
       "      <td>N</td>\n",
       "      <td>13</td>\n",
       "      <td>White</td>\n",
       "      <td>Y</td>\n",
       "      <td>Resident</td>\n",
       "      <td>13</td>\n",
       "      <td>3.39</td>\n",
       "      <td>28</td>\n",
       "      <td>26</td>\n",
       "      <td>24</td>\n",
       "      <td>31</td>\n",
       "      <td>29</td>\n",
       "      <td>8.0</td>\n",
       "      <td>8</td>\n",
       "      <td>N</td>\n",
       "      <td>1</td>\n",
       "      <td>1</td>\n",
       "    </tr>\n",
       "  </tbody>\n",
       "</table>\n",
       "</div>"
      ],
      "text/plain": [
       "   Number Cohort_Year Gender 1st_Generation_Student?  IPEDS_Ethnicity  \\\n",
       "0       1   Fall 2009      F                       N               13   \n",
       "1       2   Fall 2009      F                       N               13   \n",
       "2       3   Fall 2009      M                       Y               13   \n",
       "3       4   Fall 2009      F                       N               10   \n",
       "4       5   Fall 2009      M                       N               13   \n",
       "\n",
       "  IPEDS_Ethnicity_Desc Citizenship_Type  Resident  Fall_1_Credits  HS_GPA  \\\n",
       "0                White                Y  Resident              16    3.72   \n",
       "1                White                Y  Resident              12    3.67   \n",
       "2                White                Y  Resident              13    3.99   \n",
       "3                Asian                Y  Resident              16    3.84   \n",
       "4                White                Y  Resident              13    3.39   \n",
       "\n",
       "   ACTC_SCORE  ACTM_SCORE  ACTE_SCORE  ACTR_SCORE  ACTS_SCORE  \\\n",
       "0          25          29          21          27          24   \n",
       "1          25          26          26          23          24   \n",
       "2          27          28          25          29          27   \n",
       "3          29          27          31          30          26   \n",
       "4          28          26          24          31          29   \n",
       "\n",
       "   Transfer_Credits  AP_Credits Pell  Fall_1_STEM?  Fall_2?  \n",
       "0               0.0           0    N             0        1  \n",
       "1               9.0           4    N             0        1  \n",
       "2              20.0          20    N             1        1  \n",
       "3               2.7           0    N             0        1  \n",
       "4               8.0           8    N             1        1  "
      ]
     },
     "execution_count": 5,
     "metadata": {},
     "output_type": "execute_result"
    }
   ],
   "source": [
    "dataset.head()"
   ]
  },
  {
   "cell_type": "code",
   "execution_count": 6,
   "metadata": {},
   "outputs": [
    {
     "data": {
      "text/plain": [
       "(6756, 20)"
      ]
     },
     "execution_count": 6,
     "metadata": {},
     "output_type": "execute_result"
    }
   ],
   "source": [
    "dataset.shape"
   ]
  },
  {
   "cell_type": "markdown",
   "metadata": {},
   "source": [
    "## 2. Dealing with Missing Values and Categorical variables"
   ]
  },
  {
   "cell_type": "code",
   "execution_count": 9,
   "metadata": {},
   "outputs": [
    {
     "data": {
      "text/plain": [
       "Number                      0\n",
       "Cohort_Year                 0\n",
       "Gender                      0\n",
       "1st_Generation_Student?     0\n",
       "IPEDS_Ethnicity             0\n",
       "IPEDS_Ethnicity_Desc        0\n",
       "Citizenship_Type            0\n",
       "Resident                    0\n",
       "Fall_1_Credits              0\n",
       "HS_GPA                     20\n",
       "ACTC_SCORE                  0\n",
       "ACTM_SCORE                  0\n",
       "ACTE_SCORE                  0\n",
       "ACTR_SCORE                  0\n",
       "ACTS_SCORE                  0\n",
       "Transfer_Credits            0\n",
       "AP_Credits                  0\n",
       "Pell                        0\n",
       "Fall_1_STEM?                0\n",
       "Fall_2?                     0\n",
       "dtype: int64"
      ]
     },
     "execution_count": 9,
     "metadata": {},
     "output_type": "execute_result"
    }
   ],
   "source": [
    "# checking for missing values\n",
    "pd.isna(dataset).sum()"
   ]
  },
  {
   "cell_type": "code",
   "execution_count": 10,
   "metadata": {},
   "outputs": [],
   "source": [
    "# Imputing missing values\n",
    "\n",
    "from sklearn.impute import SimpleImputer\n",
    "imputer = SimpleImputer(missing_values=np.nan,strategy=\"constant\",fill_value=0)\n",
    "imputer.fit(X[:,[9,10]])\n",
    "X[:,9:11]= imputer.transform(X[:,9:11])\n"
   ]
  },
  {
   "cell_type": "code",
   "execution_count": 12,
   "metadata": {},
   "outputs": [],
   "source": [
    "# label encoding the Categorical features\n",
    "\n",
    "from sklearn.preprocessing import LabelEncoder\n",
    "labelencoder_X= LabelEncoder()\n",
    "X[:,1] = labelencoder_X.fit_transform(X[:,1])\n",
    "X[:,2] = labelencoder_X.fit_transform(X[:,2])\n",
    "X[:,3] = labelencoder_X.fit_transform(X[:,3])\n",
    "X[:,5] = labelencoder_X.fit_transform(X[:,5])\n",
    "X[:,6] = labelencoder_X.fit_transform(X[:,6])\n",
    "X[:,7] = labelencoder_X.fit_transform(X[:,7])\n",
    "X[:,17] = labelencoder_X.fit_transform(X[:,17])\n"
   ]
  },
  {
   "cell_type": "code",
   "execution_count": 13,
   "metadata": {},
   "outputs": [
    {
     "name": "stderr",
     "output_type": "stream",
     "text": [
      "C:\\Users\\Admin\\Anaconda3\\lib\\site-packages\\sklearn\\preprocessing\\_encoders.py:390: DeprecationWarning: The 'categorical_features' keyword is deprecated in version 0.20 and will be removed in 0.22. You can use the ColumnTransformer instead.\n",
      "  \"use the ColumnTransformer instead.\", DeprecationWarning)\n",
      "C:\\Users\\Admin\\Anaconda3\\lib\\site-packages\\sklearn\\preprocessing\\_encoders.py:390: DeprecationWarning: The 'categorical_features' keyword is deprecated in version 0.20 and will be removed in 0.22. You can use the ColumnTransformer instead.\n",
      "  \"use the ColumnTransformer instead.\", DeprecationWarning)\n",
      "C:\\Users\\Admin\\Anaconda3\\lib\\site-packages\\sklearn\\preprocessing\\_encoders.py:390: DeprecationWarning: The 'categorical_features' keyword is deprecated in version 0.20 and will be removed in 0.22. You can use the ColumnTransformer instead.\n",
      "  \"use the ColumnTransformer instead.\", DeprecationWarning)\n",
      "C:\\Users\\Admin\\Anaconda3\\lib\\site-packages\\sklearn\\preprocessing\\_encoders.py:390: DeprecationWarning: The 'categorical_features' keyword is deprecated in version 0.20 and will be removed in 0.22. You can use the ColumnTransformer instead.\n",
      "  \"use the ColumnTransformer instead.\", DeprecationWarning)\n",
      "C:\\Users\\Admin\\Anaconda3\\lib\\site-packages\\sklearn\\preprocessing\\_encoders.py:390: DeprecationWarning: The 'categorical_features' keyword is deprecated in version 0.20 and will be removed in 0.22. You can use the ColumnTransformer instead.\n",
      "  \"use the ColumnTransformer instead.\", DeprecationWarning)\n",
      "C:\\Users\\Admin\\Anaconda3\\lib\\site-packages\\sklearn\\preprocessing\\_encoders.py:390: DeprecationWarning: The 'categorical_features' keyword is deprecated in version 0.20 and will be removed in 0.22. You can use the ColumnTransformer instead.\n",
      "  \"use the ColumnTransformer instead.\", DeprecationWarning)\n",
      "C:\\Users\\Admin\\Anaconda3\\lib\\site-packages\\sklearn\\preprocessing\\_encoders.py:390: DeprecationWarning: The 'categorical_features' keyword is deprecated in version 0.20 and will be removed in 0.22. You can use the ColumnTransformer instead.\n",
      "  \"use the ColumnTransformer instead.\", DeprecationWarning)\n"
     ]
    }
   ],
   "source": [
    "# Performing one-hot encoding\n",
    "\n",
    "from sklearn.preprocessing import LabelEncoder, OneHotEncoder\n",
    "labelencoder_X= LabelEncoder()\n",
    "X[:,1] = labelencoder_X.fit_transform(X[:,1])\n",
    "onehotencoder= OneHotEncoder(categorical_features=[1])\n",
    "X = onehotencoder.fit_transform(X).toarray()\n",
    "\n",
    "X[:,2] = labelencoder_X.fit_transform(X[:,2])\n",
    "onehotencoder= OneHotEncoder(categorical_features=[2])\n",
    "X = onehotencoder.fit_transform(X).toarray()\n",
    "\n",
    "X[:,3] = labelencoder_X.fit_transform(X[:,3])\n",
    "onehotencoder= OneHotEncoder(categorical_features=[3])\n",
    "X = onehotencoder.fit_transform(X).toarray()\n",
    "\n",
    "X[:,5] = labelencoder_X.fit_transform(X[:,5])\n",
    "onehotencoder= OneHotEncoder(categorical_features=[5])\n",
    "X = onehotencoder.fit_transform(X).toarray()\n",
    "\n",
    "X[:,6] = labelencoder_X.fit_transform(X[:,6])\n",
    "onehotencoder= OneHotEncoder(categorical_features=[6])\n",
    "X = onehotencoder.fit_transform(X).toarray()\n",
    "\n",
    "X[:,7] = labelencoder_X.fit_transform(X[:,7])\n",
    "onehotencoder= OneHotEncoder(categorical_features=[7])\n",
    "X = onehotencoder.fit_transform(X).toarray()\n",
    "\n",
    "X[:,17] = labelencoder_X.fit_transform(X[:,17])\n",
    "onehotencoder= OneHotEncoder(categorical_features=[17])\n",
    "X = onehotencoder.fit_transform(X).toarray()"
   ]
  },
  {
   "cell_type": "code",
   "execution_count": 14,
   "metadata": {},
   "outputs": [
    {
     "data": {
      "text/plain": [
       "(6756, 37)"
      ]
     },
     "execution_count": 14,
     "metadata": {},
     "output_type": "execute_result"
    }
   ],
   "source": [
    "pd.DataFrame(X).shape"
   ]
  },
  {
   "cell_type": "markdown",
   "metadata": {},
   "source": [
    "## 3. Splitting the data into train and test datasets"
   ]
  },
  {
   "cell_type": "code",
   "execution_count": 15,
   "metadata": {},
   "outputs": [],
   "source": [
    "\n",
    "from sklearn.model_selection import train_test_split\n",
    "X_train, X_test, y_train, y_test= train_test_split(X,y,test_size=0.3,random_state=0)"
   ]
  },
  {
   "cell_type": "markdown",
   "metadata": {},
   "source": [
    "## 4. Normalizing the data"
   ]
  },
  {
   "cell_type": "code",
   "execution_count": 17,
   "metadata": {},
   "outputs": [],
   "source": [
    "from sklearn.preprocessing import StandardScaler\n",
    "sc_X= StandardScaler()\n",
    "X_train= sc_X.fit_transform(X_train)\n",
    "X_test= sc_X.transform(X_test)"
   ]
  },
  {
   "cell_type": "markdown",
   "metadata": {},
   "source": [
    "## 5. Feature Selection using Backward Elimination"
   ]
  },
  {
   "cell_type": "code",
   "execution_count": 18,
   "metadata": {},
   "outputs": [],
   "source": [
    "import statsmodels.api as sm\n",
    "def backwardElimination(x, sl):\n",
    "    numVars= len(x[0])\n",
    "    for i in range(0, numVars):\n",
    "        obj_OLS= sm.OLS(y, x).fit()\n",
    "        maxVar= max(obj_OLS.pvalues).astype(float)\n",
    "        if maxVar> sl:\n",
    "            for j in range(0, numVars-i):\n",
    "                if (obj_OLS.pvalues[j].astype(float) == maxVar):\n",
    "                    x = np.delete(x, j, 1)\n",
    "    obj_OLS.summary()\n",
    "    return x\n",
    "\n",
    "SL = 0.05\n",
    "X_sig= X[:, [0,1,2,4,5,6,7,8,9,10,11,12,13,14,15,16,17,18,19,20,21,\n",
    "            22,23,24,25,26,27,28,29,30,31,32,33,34,35,36]]\n",
    "X_Modeled= backwardElimination(X_sig, SL)"
   ]
  },
  {
   "cell_type": "code",
   "execution_count": 19,
   "metadata": {},
   "outputs": [
    {
     "data": {
      "text/plain": [
       "(6756, 18)"
      ]
     },
     "execution_count": 19,
     "metadata": {},
     "output_type": "execute_result"
    }
   ],
   "source": [
    "pd.DataFrame(X_Modeled).shape\n",
    "\n",
    "# Backward Elimination dropped 19 features"
   ]
  },
  {
   "cell_type": "code",
   "execution_count": 20,
   "metadata": {},
   "outputs": [],
   "source": [
    "# Splitting the Modeled data into train and test datasets\n",
    "\n",
    "from sklearn.model_selection import train_test_split\n",
    "X_train, X_test, y_train, y_test= train_test_split(X_Modeled,y,test_size=0.3,random_state=0)"
   ]
  },
  {
   "cell_type": "code",
   "execution_count": 21,
   "metadata": {},
   "outputs": [],
   "source": [
    "# Normalizing the Modeled data\n",
    "\n",
    "from sklearn.preprocessing import StandardScaler\n",
    "sc_X= StandardScaler()\n",
    "X_train= sc_X.fit_transform(X_train)\n",
    "X_test= sc_X.transform(X_test)"
   ]
  },
  {
   "cell_type": "markdown",
   "metadata": {},
   "source": [
    "## 6. Fitting different classification models"
   ]
  },
  {
   "cell_type": "markdown",
   "metadata": {},
   "source": [
    "### 6.1 Logistic Regression"
   ]
  },
  {
   "cell_type": "code",
   "execution_count": 45,
   "metadata": {},
   "outputs": [
    {
     "name": "stdout",
     "output_type": "stream",
     "text": [
      "Accuracy by logistic regression: 0.8825851011346818\n"
     ]
    }
   ],
   "source": [
    "#Fitting Logistic Regression to Training Set\n",
    "\n",
    "from sklearn.linear_model import LogisticRegression\n",
    "logreg= LogisticRegression(random_state=0)\n",
    "logreg.fit(X_train, y_train)\n",
    "\n",
    "#Making predictions on the Test Set\n",
    "y_pred_logistic= logreg.predict(X_test)\n",
    "\n",
    "#Print Model Accuracy\n",
    "print(\"Accuracy by logistic regression:\",logreg.score(X_test,y_test))\n"
   ]
  },
  {
   "cell_type": "markdown",
   "metadata": {},
   "source": [
    "### 6.2 Support Vector Machine"
   ]
  },
  {
   "cell_type": "code",
   "execution_count": 49,
   "metadata": {},
   "outputs": [
    {
     "name": "stdout",
     "output_type": "stream",
     "text": [
      "Accuracy by linear SVM: 0.882091761223483\n",
      "Accuracy by RBF SVM: 0.8811050814010853\n",
      "Accuracy by Sigmoid SVM: 0.8154908732116428\n",
      "Accuracy by Poly SVM - degree 3: 0.882091761223483\n",
      "Accuracy by Poly SVM - degree 10: 0.8677849037987173\n",
      "Accuracy by Poly SVM - degree 20: 0.8643315244203256\n"
     ]
    }
   ],
   "source": [
    "from sklearn.svm import SVC\n",
    "\n",
    "# linear svm\n",
    "svm = SVC(kernel='linear')\n",
    "svm.fit(X_train, y_train)\n",
    "y_pred_svm = svm.predict(X_test)\n",
    "\n",
    "print(\"Accuracy by linear SVM:\",svm.score(X_test,y_test))\n",
    "\n",
    "# kernel svm - rbf\n",
    "kernel_svm_rbf = SVC()\n",
    "kernel_svm_rbf.fit(X_train, y_train)\n",
    "y_pred_svm_rbf = kernel_svm_rbf.predict(X_test)\n",
    "\n",
    "print(\"Accuracy by RBF SVM:\",kernel_svm_rbf.score(X_test,y_test))\n",
    "\n",
    "# kernel svm - sigmoid\n",
    "kernel_svm_sigmoid = SVC(kernel='sigmoid')\n",
    "kernel_svm_sigmoid.fit(X_train, y_train)\n",
    "y_pred_svm_sigmoid = kernel_svm_sigmoid.predict(X_test)\n",
    "\n",
    "print(\"Accuracy by Sigmoid SVM:\",kernel_svm_sigmoid.score(X_test,y_test))\n",
    "\n",
    "\n",
    "# polynomial svm\n",
    "#degree 3\n",
    "svm_poly3 = SVC(kernel='poly', degree=3)\n",
    "svm_poly3.fit(X_train, y_train)\n",
    "y_pred_svm_poly3 = svm_poly3.predict(X_test)\n",
    "\n",
    "print(\"Accuracy by Poly SVM - degree 3:\",svm_poly3.score(X_test,y_test))\n",
    "\n",
    "#degree 10\n",
    "svm_poly10= SVC(kernel='poly', degree=10)\n",
    "svm_poly10.fit(X_train, y_train)\n",
    "y_pred_svm_poly10 = svm_poly10.predict(X_test)\n",
    "\n",
    "print(\"Accuracy by Poly SVM - degree 10:\",svm_poly10.score(X_test,y_test))\n",
    "\n",
    "#degree 20\n",
    "svm_poly20= SVC(kernel='poly', degree=20)\n",
    "svm_poly20.fit(X_train, y_train)\n",
    "y_pred_svm_poly20 = svm_poly20.predict(X_test)\n",
    "\n",
    "print(\"Accuracy by Poly SVM - degree 20:\",svm_poly20.score(X_test,y_test))\n",
    "\n"
   ]
  },
  {
   "cell_type": "markdown",
   "metadata": {},
   "source": [
    "### 6.3 k Nearest Neighbour "
   ]
  },
  {
   "cell_type": "code",
   "execution_count": 27,
   "metadata": {
    "scrolled": true
   },
   "outputs": [
    {
     "name": "stdout",
     "output_type": "stream",
     "text": [
      "Minimum error rate using k-NN: 0.11790823877651702\n",
      "K : 20\n"
     ]
    },
    {
     "data": {
      "image/png": "[encoded data removed]",
      "text/plain": [
       "<Figure size 432x288 with 1 Axes>"
      ]
     },
     "metadata": {
      "needs_background": "light"
     },
     "output_type": "display_data"
    }
   ],
   "source": [
    "from sklearn.neighbors import KNeighborsClassifier\n",
    "\n",
    "k_range = range(5,100,5)\n",
    "knn_scores = []\n",
    "\n",
    "\n",
    "for k in k_range:\n",
    "    knn = KNeighborsClassifier(n_neighbors=k,p=2,metric='minkowski')\n",
    "    knn.fit(X_train, y_train)\n",
    "    knn_scores.append(1-(knn.score(X_test,y_test)))\n",
    "\n",
    "# plot the relationship between K and error\n",
    "# plt.plot(x_axis, y_axis)\n",
    "plt.plot(k_range, knn_scores,color='red', linestyle='dashed', marker='o',\n",
    "         markerfacecolor='blue', markersize=10)\n",
    "plt.title('Error Rate vs. k Value')\n",
    "plt.xlabel('Value of K for KNN')\n",
    "plt.ylabel('Testing Accuracy')\n",
    "\n",
    "print(\"Minimum error rate using k-NN:\",min(knn_scores))\n",
    "print(\"K :\",k_range[knn_scores.index(min(knn_scores))])"
   ]
  },
  {
   "cell_type": "code",
   "execution_count": 28,
   "metadata": {},
   "outputs": [
    {
     "name": "stdout",
     "output_type": "stream",
     "text": [
      "Accuracy by k-NN: 0.882091761223483\n"
     ]
    }
   ],
   "source": [
    "# k-NN is selected at k = 20\n",
    "\n",
    "KNN = KNeighborsClassifier(n_neighbors=20, p=2, metric='minkowski')\n",
    "KNN.fit(X_train, y_train)\n",
    "\n",
    "y_pred_knn = KNN.predict(X_test)\n",
    "\n",
    "#Model Accuracy\n",
    "print(\"Accuracy by k-NN:\",KNN.score(X_test,y_test))"
   ]
  },
  {
   "cell_type": "markdown",
   "metadata": {},
   "source": [
    "### 6.4 Naive Bayes"
   ]
  },
  {
   "cell_type": "code",
   "execution_count": 29,
   "metadata": {},
   "outputs": [
    {
     "name": "stdout",
     "output_type": "stream",
     "text": [
      "Accuracy by Naive Bayes: 0.8317710902812038\n"
     ]
    }
   ],
   "source": [
    "from sklearn.naive_bayes import GaussianNB\n",
    "gnb = GaussianNB()\n",
    "gnb.fit(X_train, y_train)\n",
    "\n",
    "y_pred_gnb = gnb.predict(X_test)\n",
    "\n",
    "#Model Accuracy\n",
    "print(\"Accuracy by Naive Bayes:\",gnb.score(X_test,y_test))"
   ]
  },
  {
   "cell_type": "markdown",
   "metadata": {},
   "source": [
    "### 6.5 Decision Tree"
   ]
  },
  {
   "cell_type": "code",
   "execution_count": 30,
   "metadata": {},
   "outputs": [
    {
     "name": "stdout",
     "output_type": "stream",
     "text": [
      "Accuracy by Decision tree 0.7923038973852985\n"
     ]
    }
   ],
   "source": [
    "from sklearn.tree import DecisionTreeClassifier\n",
    "tree= DecisionTreeClassifier(criterion='entropy')\n",
    "tree.fit(X_train,y_train)\n",
    "\n",
    "#Making predictions on the Test Set\n",
    "y_pred_decisiontree= tree.predict(X_test)\n",
    "\n",
    "#Print Model Accuracy\n",
    "print(\"Accuracy by Decision tree\",tree.score(X_test,y_test))"
   ]
  },
  {
   "cell_type": "markdown",
   "metadata": {},
   "source": [
    "### 6.6 Random Forest"
   ]
  },
  {
   "cell_type": "code",
   "execution_count": 33,
   "metadata": {
    "scrolled": false
   },
   "outputs": [
    {
     "name": "stdout",
     "output_type": "stream",
     "text": [
      "Minimum error rate using Random Forest: 0.14948199309324128\n",
      "n_estimators : 75\n"
     ]
    },
    {
     "data": {
      "image/png": "[encoded data removed]",
      "text/plain": [
       "<Figure size 432x288 with 1 Axes>"
      ]
     },
     "metadata": {
      "needs_background": "light"
     },
     "output_type": "display_data"
    }
   ],
   "source": [
    "from sklearn.ensemble import RandomForestClassifier\n",
    "\n",
    "\n",
    "n_range = range(10,100,5)\n",
    "scores_rfc = []\n",
    "\n",
    "for n in n_range:\n",
    "    rfc = RandomForestClassifier(n_estimators=n,criterion='entropy',random_state = 0)\n",
    "    rfc.fit(X_train,y_train)\n",
    "    scores_rfc.append((1-rfc.score(X_test,y_test)))\n",
    "    \n",
    "# plotting the n_estimators values and the misclassification rate\n",
    "\n",
    "plt.plot(n_range, scores_rfc,color='red', linestyle='dashed', marker='o',\n",
    "         markerfacecolor='blue', markersize=10)\n",
    "plt.title('Error Rate vs. n_estimator')\n",
    "plt.xlabel('n_estimators')\n",
    "plt.ylabel('Misclassification Rate')\n",
    "\n",
    "print(\"Minimum error rate using Random Forest:\",min(scores_rfc))\n",
    "print(\"n_estimators :\",n_range[scores_rfc.index(min(scores_rfc))])"
   ]
  },
  {
   "cell_type": "code",
   "execution_count": 34,
   "metadata": {},
   "outputs": [
    {
     "name": "stdout",
     "output_type": "stream",
     "text": [
      "Accuracy by Random Forest:  0.8539713862851505\n"
     ]
    }
   ],
   "source": [
    "# Random Forest is selected at n = 75\n",
    "\n",
    "# Random Forest at selected n_estimators\n",
    "rfc_champion = RandomForestClassifier(n_estimators= 75,criterion='entropy')\n",
    "rfc_champion.fit(X_train,y_train)\n",
    "y_pred_rfc = rfc_champion.predict(X_test)\n",
    "\n",
    "print(\"Accuracy by Random Forest: \",rfc_champion.score(X_test,y_test))"
   ]
  },
  {
   "cell_type": "markdown",
   "metadata": {},
   "source": [
    "## 7. Dimensionality Reduction "
   ]
  },
  {
   "cell_type": "markdown",
   "metadata": {},
   "source": [
    "### 7.1 Using PCA"
   ]
  },
  {
   "cell_type": "code",
   "execution_count": 37,
   "metadata": {},
   "outputs": [
    {
     "name": "stdout",
     "output_type": "stream",
     "text": [
      "Accuracy using PCA:  0.882091761223483\n"
     ]
    }
   ],
   "source": [
    "from sklearn.decomposition import PCA\n",
    "pcaObj = PCA(n_components=2)\n",
    "X_train_pca = pcaObj.fit_transform(X_train)\n",
    "X_test_pca = pcaObj.transform(X_test)\n",
    "components_variance = pcaObj.explained_variance_ratio_\n",
    "\n",
    "#Fitting Logistic Regression to Training Set\n",
    "\n",
    "classifierObj = LogisticRegression(random_state=0)\n",
    "classifierObj.fit(X_train_pca, y_train)\n",
    "\n",
    "#Model Accuracy\n",
    "print(\"Accuracy using PCA: \",classifierObj.score(X_test_pca,y_test))\n"
   ]
  },
  {
   "cell_type": "markdown",
   "metadata": {},
   "source": [
    "### 7.2 Using LDA "
   ]
  },
  {
   "cell_type": "code",
   "execution_count": 42,
   "metadata": {},
   "outputs": [
    {
     "name": "stdout",
     "output_type": "stream",
     "text": [
      "Accuracy using LDA:  0.8835717809570794\n"
     ]
    }
   ],
   "source": [
    "\n",
    "from sklearn.discriminant_analysis import LinearDiscriminantAnalysis as LDA\n",
    "ldaObj = LDA(n_components=2)\n",
    "X_train_lda = ldaObj.fit_transform(X_train,y_train)\n",
    "X_test_lda = ldaObj.transform(X_test)\n",
    "components_variance = ldaObj.explained_variance_ratio_\n",
    "\n",
    "classifierObj = LogisticRegression(random_state=0)\n",
    "classifierObj.fit(X_train_lda, y_train)\n",
    "\n",
    "#Model Accuracy\n",
    "print(\"Accuracy using LDA: \",classifierObj.score(X_test_lda,y_test))\n"
   ]
  },
  {
   "cell_type": "markdown",
   "metadata": {},
   "source": [
    "### 7.3 Using Kernel PCA"
   ]
  },
  {
   "cell_type": "code",
   "execution_count": 44,
   "metadata": {},
   "outputs": [
    {
     "name": "stdout",
     "output_type": "stream",
     "text": [
      "Accuracy using Kernel PCA:  0.882091761223483\n"
     ]
    }
   ],
   "source": [
    "from sklearn.decomposition import KernelPCA\n",
    "kernelPCAObj = KernelPCA(n_components=2, kernel='rbf')\n",
    "X_train_kpca = kernelPCAObj.fit_transform(X_train)\n",
    "X_test_kpca = kernelPCAObj.transform(X_test)\n",
    "\n",
    "classifierObj = LogisticRegression(random_state=0)\n",
    "classifierObj.fit(X_train_kpca, y_train)\n",
    "\n",
    "#Model Accuracy\n",
    "print(\"Accuracy using Kernel PCA: \",classifierObj.score(X_test_kpca,y_test))\n"
   ]
  },
  {
   "cell_type": "markdown",
   "metadata": {},
   "source": [
    "## 8. Ensemble Model"
   ]
  },
  {
   "cell_type": "code",
   "execution_count": 50,
   "metadata": {},
   "outputs": [
    {
     "name": "stdout",
     "output_type": "stream",
     "text": [
      "Accuracy with the Ensemble Model: 0.882091761223483\n"
     ]
    }
   ],
   "source": [
    "\n",
    "from sklearn.ensemble import VotingClassifier\n",
    "\n",
    "ensemble = VotingClassifier(estimators=[('lr',logreg),\n",
    "                                        ['knn',KNN],\n",
    "                                        ['svm',svm],\n",
    "                                        ['gnb',gnb],\n",
    "                                        ['rf',rfc_champion]],\n",
    "                                        voting='hard')\n",
    "\n",
    "ensemble.fit(X_train,y_train)\n",
    "print(\"Accuracy with the Ensemble Model:\", ensemble.score(X_test,y_test))\n",
    "\n"
   ]
  },
  {
   "cell_type": "markdown",
   "metadata": {},
   "source": [
    "### Of all the models, Logistic Regression with LDA has given the best accuracy - 88.35%"
   ]
  }
 ],
 "metadata": {
  "kernelspec": {
   "display_name": "Python 3",
   "language": "python",
   "name": "python3"
  },
  "language_info": {
   "codemirror_mode": {
    "name": "ipython",
    "version": 3
   },
   "file_extension": ".py",
   "mimetype": "text/x-python",
   "name": "python",
   "nbconvert_exporter": "python",
   "pygments_lexer": "ipython3",
   "version": "3.7.1"
  }
 },
 "nbformat": 4,
 "nbformat_minor": 2
}
